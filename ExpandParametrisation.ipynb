{
    "cells": [
        {
            "cell_type": "code",
            "execution_count": 2,
            "source": [
                "%cd /Users/aguschin/Git/iterative/yolov5/"
            ],
            "outputs": [
                {
                    "output_type": "stream",
                    "name": "stdout",
                    "text": [
                        "/Users/aguschin/Git/iterative/yolov5\n"
                    ]
                }
            ],
            "metadata": {}
        },
        {
            "cell_type": "code",
            "execution_count": 31,
            "source": [
                "import yaml\n",
                "import subprocess\n",
                "\n",
                "\n",
                "def expand_dict(dictionary):\n",
                "    string = \"\"\n",
                "    for key, value in dictionary.items():\n",
                "        if isinstance(value, dict):\n",
                "            assert \"Nested dicts aren't supported\"\n",
                "        elif isinstance(value, list):\n",
                "            # I supposed it should work some other way\n",
                "            string = f\"{string} --{key} \" + \" \".join(f\"{v}\" for v in value)\n",
                "        elif value is None:\n",
                "            pass\n",
                "        # not sure False should always turn into skipping that arg\n",
                "        elif value is False:\n",
                "            pass\n",
                "        elif value is True:\n",
                "            string = f\"{string} --{key}\"\n",
                "        # why single quotes? It there two cases which required this option to be selected by user, or they are interchargeable?\n",
                "        elif value == \"\":\n",
                "            string = f\"{string} --{key} ''\"\n",
                "        else:\n",
                "            string = f\"{string} --{key} {value}\"\n",
                "    return string"
            ],
            "outputs": [],
            "metadata": {}
        },
        {
            "cell_type": "code",
            "execution_count": 32,
            "source": [
                "with open(\"params.yaml\") as f:\n",
                "    params = yaml.safe_load(f)\n",
                "\n",
                "params_string = expand_dict(params[\"train\"])\n",
                "params_string"
            ],
            "outputs": [
                {
                    "output_type": "execute_result",
                    "data": {
                        "text/plain": [
                            "\" --weights '' --cfg models/yolov5s.yaml --data data/coco128.yaml --hyp data/hyp.scratch.yaml --epochs 1 --batch-size 16 --img-size 32 32 --bucket '' --device cpu --local_rank -1 --workers 8 --project runs/train --name exp --label-smoothing 0.0 --bbox_interval -1 --save_period -1 --artifact_alias latest\""
                        ]
                    },
                    "metadata": {},
                    "execution_count": 32
                }
            ],
            "metadata": {}
        },
        {
            "cell_type": "code",
            "execution_count": 33,
            "source": [
                "run = subprocess.run(f\"python train_mock.py {params_string}\", shell=True, capture_output=True, check=False)\n",
                "run.stdout, run.stderr"
            ],
            "outputs": [
                {
                    "output_type": "execute_result",
                    "data": {
                        "text/plain": [
                            "(b\"{'weights': '', 'cfg': 'models/yolov5s.yaml', 'data': 'data/coco128.yaml', 'hyp': 'data/hyp.scratch.yaml', 'epochs': 1, 'batch_size': 16, 'img_size': [32, 32], 'rect': False, 'resume': False, 'nosave': False, 'notest': False, 'noautoanchor': False, 'evolve': False, 'bucket': '', 'cache_images': False, 'image_weights': False, 'device': 'cpu', 'multi_scale': False, 'single_cls': False, 'adam': False, 'sync_bn': False, 'local_rank': -1, 'workers': 8, 'project': 'runs/train', 'entity': None, 'name': 'exp', 'exist_ok': False, 'quad': False, 'linear_lr': False, 'label_smoothing': 0.0, 'upload_dataset': False, 'bbox_interval': -1, 'save_period': -1, 'artifact_alias': 'latest'}\\n\",\n",
                            " b'')"
                        ]
                    },
                    "metadata": {},
                    "execution_count": 33
                }
            ],
            "metadata": {}
        },
        {
            "cell_type": "code",
            "execution_count": 34,
            "source": [
                "run = subprocess.run(f\"python train_mock.py\", shell=True, capture_output=True, check=False)\n",
                "run.stdout, run.stderr"
            ],
            "outputs": [
                {
                    "output_type": "execute_result",
                    "data": {
                        "text/plain": [
                            "(b\"{'weights': 'yolov5s.pt', 'cfg': '', 'data': 'data/coco128.yaml', 'hyp': 'data/hyp.scratch.yaml', 'epochs': 300, 'batch_size': 16, 'img_size': [640, 640], 'rect': False, 'resume': False, 'nosave': False, 'notest': False, 'noautoanchor': False, 'evolve': False, 'bucket': '', 'cache_images': False, 'image_weights': False, 'device': '', 'multi_scale': False, 'single_cls': False, 'adam': False, 'sync_bn': False, 'local_rank': -1, 'workers': 8, 'project': 'runs/train', 'entity': None, 'name': 'exp', 'exist_ok': False, 'quad': False, 'linear_lr': False, 'label_smoothing': 0.0, 'upload_dataset': False, 'bbox_interval': -1, 'save_period': -1, 'artifact_alias': 'latest'}\\n\",\n",
                            " b'')"
                        ]
                    },
                    "metadata": {},
                    "execution_count": 34
                }
            ],
            "metadata": {}
        },
        {
            "cell_type": "code",
            "execution_count": 36,
            "source": [
                "from copy import deepcopy\n",
                "\n",
                "subprocess.run(\"cp dvc.yaml.save dvc.yaml\", shell=True)\n",
                "\n",
                "with open(\"params.yaml\") as f:\n",
                "    params = yaml.safe_load(f)\n",
                "\n",
                "with open(\"dvc.yaml\") as f:\n",
                "    dvc = yaml.safe_load(f)\n",
                "\n",
                "# dvc_copy = deepcopy(dvc)\n",
                "for stage in dvc[\"stages\"]:\n",
                "    # hack for avoiding regexp, but this could be rewritten\n",
                "    dvc[\"stages\"][stage][\"cmd\"] = dvc[\"stages\"][stage][\"cmd\"].replace(\"${\" + stage + \"}\", expand_dict(params[stage]))\n",
                "    \n",
                "with open(\"dvc.yaml\", \"w\") as f:\n",
                "    yaml.safe_dump(dvc, f)"
            ],
            "outputs": [],
            "metadata": {}
        },
        {
            "cell_type": "code",
            "execution_count": null,
            "source": [
                "run = subprocess.run(f\"dvc repro\", shell=True, capture_output=True, check=False)\n",
                "run.stdout, run.stderr"
            ],
            "outputs": [],
            "metadata": {}
        },
        {
            "cell_type": "code",
            "execution_count": null,
            "source": [],
            "outputs": [],
            "metadata": {}
        },
        {
            "cell_type": "code",
            "execution_count": null,
            "source": [],
            "outputs": [],
            "metadata": {}
        }
    ],
    "metadata": {
        "orig_nbformat": 4,
        "language_info": {
            "name": "python"
        }
    },
    "nbformat": 4,
    "nbformat_minor": 2
}